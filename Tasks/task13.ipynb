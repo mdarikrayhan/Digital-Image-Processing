{
 "cells": [
  {
   "cell_type": "code",
   "execution_count": 1,
   "metadata": {},
   "outputs": [
    {
     "name": "stdout",
     "output_type": "stream",
     "text": [
      "Sharpening using Roberts operator for pixel (1,1) is 50\n",
      "Sharpening using Sobel operator for pixel (1,1) is 0\n",
      "Sharpening using Prewitt operator for pixel (1,1) is 0\n"
     ]
    }
   ],
   "source": [
    "import numpy as np\n",
    "\n",
    "array = np.array([[50,50,100,100],[50,50,100,100],[50,50,100,100],[50,50,100,100]])\n",
    "\n",
    "#Roberts operator\n",
    "roberts = np.array([[-1,0],[0,1]])\n",
    "\n",
    "#Sobel operator\n",
    "sobel = np.array([[-1,-2,-1],[0,0,0],[1,2,1]])\n",
    "\n",
    "#Prewitt operator\n",
    "prewitt = np.array([[-1,-1,-1],[0,0,0],[1,1,1]])\n",
    "\n",
    "#Sharpening using Roberts operator for pixel (1,1)\n",
    "roberts_sharpening = np.sum(array[1:3,1:3]*roberts)\n",
    "print(\"Sharpening using Roberts operator for pixel (1,1) is\",roberts_sharpening)\n",
    "\n",
    "#Sharpening using Sobel operator for pixel (1,1)\n",
    "sobel_sharpening = np.sum(array[0:3,0:3]*sobel)\n",
    "print(\"Sharpening using Sobel operator for pixel (1,1) is\",sobel_sharpening)\n",
    "\n",
    "#Sharpening using Prewitt operator for pixel (1,1)\n",
    "prewitt_sharpening = np.sum(array[0:3,0:3]*prewitt)\n",
    "print(\"Sharpening using Prewitt operator for pixel (1,1) is\",prewitt_sharpening)\n"
   ]
  }
 ],
 "metadata": {
  "kernelspec": {
   "display_name": "Python 3",
   "language": "python",
   "name": "python3"
  },
  "language_info": {
   "codemirror_mode": {
    "name": "ipython",
    "version": 3
   },
   "file_extension": ".py",
   "mimetype": "text/x-python",
   "name": "python",
   "nbconvert_exporter": "python",
   "pygments_lexer": "ipython3",
   "version": "3.11.1"
  },
  "orig_nbformat": 4,
  "vscode": {
   "interpreter": {
    "hash": "aee8b7b246df8f9039afb4144a1f6fd8d2ca17a180786b69acc140d282b71a49"
   }
  }
 },
 "nbformat": 4,
 "nbformat_minor": 2
}
