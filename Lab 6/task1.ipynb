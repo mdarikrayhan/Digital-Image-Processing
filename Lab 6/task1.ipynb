{
 "cells": [
  {
   "attachments": {},
   "cell_type": "markdown",
   "metadata": {},
   "source": [
    "<h4>Task-1: Take three float values in three variables by user input and find out the sum of three values.</h4>"
   ]
  },
  {
   "cell_type": "code",
   "execution_count": 1,
   "metadata": {},
   "outputs": [
    {
     "name": "stdout",
     "output_type": "stream",
     "text": [
      "Sum of three numbers is 1.21.41.4\n"
     ]
    }
   ],
   "source": [
    "a = float(input(\"Enter the first number: \"))\n",
    "b = float(input(\"Enter the second number: \"))\n",
    "c = float(input(\"Enter the third number: \"))\n",
    "sum = a + b + c\n",
    "print(\"The sum of three numbers is: \", sum)"
   ]
  },
  {
   "attachments": {},
   "cell_type": "markdown",
   "metadata": {},
   "source": [
    "<h4>Task-2:Take three lists, print them and find out the sum of three lists. </h4>"
   ]
  },
  {
   "cell_type": "code",
   "execution_count": null,
   "metadata": {},
   "outputs": [],
   "source": [
    "list1 = [1, 2, 3, 4, 5]\n",
    "list2 = [6, 7, 8, 9, 10]\n",
    "list3 = [11, 12, 13, 14, 15]\n",
    "print(\"List 1: \", list1)\n",
    "print(\"List 2: \", list2)\n",
    "print(\"List 3: \", list3)\n",
    "sum = list1 + list2 + list3\n",
    "print(\"The sum of three lists is: \", sum)\n"
   ]
  },
  {
   "attachments": {},
   "cell_type": "markdown",
   "metadata": {},
   "source": [
    "<h4>Task-3: Print the sum of first 100 numbers using for loop, while loop and do while loop.</h4>"
   ]
  },
  {
   "cell_type": "code",
   "execution_count": 2,
   "metadata": {},
   "outputs": [
    {
     "name": "stdout",
     "output_type": "stream",
     "text": [
      "The sum of first 100 numbers using for loop is:  5050\n",
      "The sum of first 100 numbers using while loop is:  5050\n",
      "The sum of first 100 numbers using do while loop is:  5050\n"
     ]
    }
   ],
   "source": [
    "# For loop\n",
    "sum = 0\n",
    "for i in range(1, 101):\n",
    "    sum += i\n",
    "print(\"The sum of first 100 numbers using for loop is: \", sum)\n",
    "\n",
    "# While loop\n",
    "sum = 0\n",
    "i = 1\n",
    "while i <= 100:\n",
    "    sum += i\n",
    "    i += 1\n",
    "print(\"The sum of first 100 numbers using while loop is: \", sum)\n",
    "\n",
    "# Do while loop\n",
    "sum = 0\n",
    "i = 1\n",
    "while True:\n",
    "    sum += i\n",
    "    i += 1\n",
    "    if i > 100:\n",
    "        break\n",
    "print(\"The sum of first 100 numbers using do while loop is: \", sum)\n"
   ]
  },
  {
   "attachments": {},
   "cell_type": "markdown",
   "metadata": {},
   "source": [
    "<h4>Task-4: Print the Fibonacci series using for loop.</h4>"
   ]
  },
  {
   "cell_type": "code",
   "execution_count": 5,
   "metadata": {},
   "outputs": [
    {
     "name": "stdout",
     "output_type": "stream",
     "text": [
      "Fibonacci series using for loop: \n",
      "0 1 1 2 3 5 8 13 21 34 55 89 144 233 377 610 987 1597 2584 "
     ]
    }
   ],
   "source": [
    "a = 0\n",
    "b = 1\n",
    "print(\"Fibonacci series using for loop: \")\n",
    "for i in range(1, 20):\n",
    "    print(a, end = \" \")\n",
    "    c = a + b\n",
    "    a = b\n",
    "    b = c\n"
   ]
  },
  {
   "attachments": {},
   "cell_type": "markdown",
   "metadata": {},
   "source": [
    "<h4>Task-5: Take three strings as user input, print them and concatenate them.</h4>"
   ]
  },
  {
   "cell_type": "code",
   "execution_count": 6,
   "metadata": {},
   "outputs": [
    {
     "name": "stdout",
     "output_type": "stream",
     "text": [
      "The three strings are:  This is BAUET\n",
      "The concatenated string is:  ThisisBAUET\n"
     ]
    }
   ],
   "source": [
    "a = input(\"Enter the first string: \")\n",
    "b = input(\"Enter the second string: \")\n",
    "c = input(\"Enter the third string: \")\n",
    "print(\"The three strings are: \", a, b, c)\n",
    "print(\"The concatenated string is: \", a + b + c)"
   ]
  },
  {
   "attachments": {},
   "cell_type": "markdown",
   "metadata": {},
   "source": [
    "<h4>Task-6: Perform String Slicing operation: Slice From the Start, Slice To the End and slicing using Negative\n",
    "Indexing.</h4>"
   ]
  },
  {
   "cell_type": "code",
   "execution_count": 7,
   "metadata": {},
   "outputs": [
    {
     "name": "stdout",
     "output_type": "stream",
     "text": [
      "The string is:  Hello World\n",
      "Slicing from the start:  Hello\n",
      "Slicing to the end:  World\n",
      "Slicing using negative indexes:  Worl\n"
     ]
    }
   ],
   "source": [
    "a = \"Hello World\"\n",
    "print(\"The string is: \", a)\n",
    "print(\"Slicing from the start: \", a[:5])\n",
    "print(\"Slicing to the end: \", a[6:])\n",
    "print(\"Slicing using negative indexes: \", a[-5:-1])"
   ]
  },
  {
   "attachments": {},
   "cell_type": "markdown",
   "metadata": {},
   "source": [
    "<h4>Task-7: Determine the grade of a student using if..else logic if subject number is taken as user input.</h4>"
   ]
  },
  {
   "cell_type": "code",
   "execution_count": 8,
   "metadata": {},
   "outputs": [
    {
     "name": "stdout",
     "output_type": "stream",
     "text": [
      "Grade: A\n"
     ]
    }
   ],
   "source": [
    "marks = int(input(\"Enter the marks: \"))\n",
    "if marks >= 90:\n",
    "    print(\"Grade: A\")\n",
    "elif marks >= 80:\n",
    "    print(\"Grade: B\")\n",
    "elif marks >= 70:\n",
    "    print(\"Grade: C\")\n",
    "elif marks >= 60:\n",
    "    print(\"Grade: D\")\n",
    "elif marks >= 50:\n",
    "    print(\"Grade: E\")\n",
    "else:\n",
    "    print(\"Grade: F\")\n"
   ]
  },
  {
   "attachments": {},
   "cell_type": "markdown",
   "metadata": {},
   "source": [
    "<h4>Task-8: Determine the grade of a student using switch..case logic if subject number is taken as user input.</h4>"
   ]
  },
  {
   "cell_type": "code",
   "execution_count": 10,
   "metadata": {},
   "outputs": [
    {
     "name": "stdout",
     "output_type": "stream",
     "text": [
      "Grade: B\n"
     ]
    }
   ],
   "source": [
    "grade_dict = {\n",
    "    range(90, 101): \"A\",\n",
    "    range(80, 90): \"B\",\n",
    "    range(70, 80): \"C\",\n",
    "    range(60, 70): \"D\",\n",
    "    range(50, 60): \"E\",\n",
    "    range(0, 50): \"F\"\n",
    "}\n",
    "\n",
    "marks = int(input(\"Enter the marks: \"))\n",
    "\n",
    "for key in grade_dict:\n",
    "    if marks in key:\n",
    "        print(\"Grade:\", grade_dict[key])\n",
    "        break"
   ]
  },
  {
   "attachments": {},
   "cell_type": "markdown",
   "metadata": {},
   "source": [
    "<h4>Task-9: Take four NumPy arrays (nparray1, nparray2, nparray3, nparray4). Define nparray1=[[1,2,3,4],\n",
    "[5,6,7,8]]), nparray2 = [5,6,7,8], nparray3 as zeros of dimension (3,4) and nparray4 as ones of dimension (3,7). Now perform NumPy array slicing: selecting 1st 2 rows and 1st two columns, first element, middle element and last element individually.</h4>"
   ]
  },
  {
   "cell_type": "code",
   "execution_count": 11,
   "metadata": {},
   "outputs": [
    {
     "name": "stdout",
     "output_type": "stream",
     "text": [
      "nparray1:  [[1 2 3 4]\n",
      " [5 6 7 8]]\n",
      "nparray2:  [5 6 7 8]\n",
      "nparray3:  [[0. 0. 0. 0.]\n",
      " [0. 0. 0. 0.]\n",
      " [0. 0. 0. 0.]]\n",
      "nparray4:  [[1. 1. 1. 1. 1. 1. 1.]\n",
      " [1. 1. 1. 1. 1. 1. 1.]\n",
      " [1. 1. 1. 1. 1. 1. 1.]]\n",
      "Slicing nparray1:  [[1 2]\n",
      " [5 6]]\n",
      "Slicing nparray2:  5\n",
      "Slicing nparray3:  0.0\n",
      "Slicing nparray4:  1.0\n"
     ]
    }
   ],
   "source": [
    "import numpy as np\n",
    "\n",
    "nparray1 = np.array([[1, 2, 3, 4], [5, 6, 7, 8]])\n",
    "nparray2 = np.array([5, 6, 7, 8])\n",
    "nparray3 = np.zeros((3, 4))\n",
    "nparray4 = np.ones((3, 7))\n",
    "\n",
    "print(\"nparray1: \", nparray1)\n",
    "print(\"nparray2: \", nparray2)\n",
    "print(\"nparray3: \", nparray3)\n",
    "print(\"nparray4: \", nparray4)\n",
    "\n",
    "print(\"Slicing nparray1: \", nparray1[:2, :2])\n",
    "print(\"Slicing nparray2: \", nparray2[0])\n",
    "print(\"Slicing nparray3: \", nparray3[1, 2])\n",
    "print(\"Slicing nparray4: \", nparray4[2, 3])\n",
    "\n"
   ]
  }
 ],
 "metadata": {
  "kernelspec": {
   "display_name": "Python 3",
   "language": "python",
   "name": "python3"
  },
  "language_info": {
   "codemirror_mode": {
    "name": "ipython",
    "version": 3
   },
   "file_extension": ".py",
   "mimetype": "text/x-python",
   "name": "python",
   "nbconvert_exporter": "python",
   "pygments_lexer": "ipython3",
   "version": "3.11.1"
  },
  "orig_nbformat": 4
 },
 "nbformat": 4,
 "nbformat_minor": 2
}
